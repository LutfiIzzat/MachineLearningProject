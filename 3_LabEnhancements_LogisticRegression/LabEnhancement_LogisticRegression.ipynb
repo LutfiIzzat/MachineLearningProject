{
  "cells": [
    {
      "cell_type": "markdown",
      "metadata": {
        "id": "s7EL0LGo-8F8"
      },
      "source": [
        "# LabEnhancement for Logistic Regression"
      ]
    },
    {
      "cell_type": "markdown",
      "metadata": {
        "id": "BauVv428-8F8"
      },
      "source": [
        "# Data Processing"
      ]
    },
    {
      "cell_type": "markdown",
      "metadata": {
        "id": "LZGV3jy9-8F8"
      },
      "source": [
        "The lab Enhancements Done  :\n",
        "\n",
        "1. Made the class distribution for the pima-indians-diabetes.csv balanced\n",
        "2. Showing different solvers of Logistic Regression to accomodate small datasets"
      ]
    },
    {
      "cell_type": "code",
      "execution_count": 3,
      "metadata": {
        "id": "oq7-egqd-8F9"
      },
      "outputs": [],
      "source": [
        "import numpy as np\n",
        "import pandas as pd\n",
        "import seaborn as sns\n",
        "import matplotlib.pyplot as plt\n",
        "\n",
        "from sklearn.model_selection import train_test_split\n",
        "from sklearn.linear_model import LogisticRegression\n",
        "from sklearn.metrics import classification_report, confusion_matrix"
      ]
    },
    {
      "cell_type": "code",
      "execution_count": 4,
      "metadata": {
        "colab": {
          "base_uri": "https://localhost:8080/"
        },
        "id": "i6ZNr2E1_QWI",
        "outputId": "060c338c-e179-4c69-b64d-fb389cb98f69"
      },
      "outputs": [],
      "source": [
        "# This is needed if you need to read data from your Google Drive\n",
        "import os\n",
        "\n",
        "try:\n",
        "    from google.colab import drive\n",
        "    drive.mount('/content/drive')\n",
        "\n",
        "    notebook_path = r\"/content/drive/Shareddrives/Machine Learning/Submission/Lab enchancement/Dataset\"\n",
        "    os.chdir(notebook_path)\n",
        "    !pwd\n",
        "except ImportError:\n",
        "    pass # do nothing"
      ]
    },
    {
      "cell_type": "code",
      "execution_count": 5,
      "metadata": {
        "colab": {
          "base_uri": "https://localhost:8080/",
          "height": 206
        },
        "id": "3Bc0p92q-8F9",
        "outputId": "a68f3de6-08aa-439c-bae8-7f78fbd7f8ee"
      },
      "outputs": [
        {
          "data": {
            "text/html": [
              "<div>\n",
              "<style scoped>\n",
              "    .dataframe tbody tr th:only-of-type {\n",
              "        vertical-align: middle;\n",
              "    }\n",
              "\n",
              "    .dataframe tbody tr th {\n",
              "        vertical-align: top;\n",
              "    }\n",
              "\n",
              "    .dataframe thead th {\n",
              "        text-align: right;\n",
              "    }\n",
              "</style>\n",
              "<table border=\"1\" class=\"dataframe\">\n",
              "  <thead>\n",
              "    <tr style=\"text-align: right;\">\n",
              "      <th></th>\n",
              "      <th>pregnant</th>\n",
              "      <th>glucose</th>\n",
              "      <th>bp</th>\n",
              "      <th>skin</th>\n",
              "      <th>insulin</th>\n",
              "      <th>bmi</th>\n",
              "      <th>pedigree</th>\n",
              "      <th>age</th>\n",
              "      <th>label</th>\n",
              "    </tr>\n",
              "  </thead>\n",
              "  <tbody>\n",
              "    <tr>\n",
              "      <th>0</th>\n",
              "      <td>6</td>\n",
              "      <td>148</td>\n",
              "      <td>72</td>\n",
              "      <td>35</td>\n",
              "      <td>0</td>\n",
              "      <td>33.6</td>\n",
              "      <td>0.627</td>\n",
              "      <td>50</td>\n",
              "      <td>1</td>\n",
              "    </tr>\n",
              "    <tr>\n",
              "      <th>1</th>\n",
              "      <td>1</td>\n",
              "      <td>85</td>\n",
              "      <td>66</td>\n",
              "      <td>29</td>\n",
              "      <td>0</td>\n",
              "      <td>26.6</td>\n",
              "      <td>0.351</td>\n",
              "      <td>31</td>\n",
              "      <td>0</td>\n",
              "    </tr>\n",
              "    <tr>\n",
              "      <th>2</th>\n",
              "      <td>8</td>\n",
              "      <td>183</td>\n",
              "      <td>64</td>\n",
              "      <td>0</td>\n",
              "      <td>0</td>\n",
              "      <td>23.3</td>\n",
              "      <td>0.672</td>\n",
              "      <td>32</td>\n",
              "      <td>1</td>\n",
              "    </tr>\n",
              "    <tr>\n",
              "      <th>3</th>\n",
              "      <td>1</td>\n",
              "      <td>89</td>\n",
              "      <td>66</td>\n",
              "      <td>23</td>\n",
              "      <td>94</td>\n",
              "      <td>28.1</td>\n",
              "      <td>0.167</td>\n",
              "      <td>21</td>\n",
              "      <td>0</td>\n",
              "    </tr>\n",
              "    <tr>\n",
              "      <th>4</th>\n",
              "      <td>0</td>\n",
              "      <td>137</td>\n",
              "      <td>40</td>\n",
              "      <td>35</td>\n",
              "      <td>168</td>\n",
              "      <td>43.1</td>\n",
              "      <td>2.288</td>\n",
              "      <td>33</td>\n",
              "      <td>1</td>\n",
              "    </tr>\n",
              "  </tbody>\n",
              "</table>\n",
              "</div>"
            ],
            "text/plain": [
              "   pregnant  glucose  bp  skin  insulin   bmi  pedigree  age  label\n",
              "0         6      148  72    35        0  33.6     0.627   50      1\n",
              "1         1       85  66    29        0  26.6     0.351   31      0\n",
              "2         8      183  64     0        0  23.3     0.672   32      1\n",
              "3         1       89  66    23       94  28.1     0.167   21      0\n",
              "4         0      137  40    35      168  43.1     2.288   33      1"
            ]
          },
          "execution_count": 5,
          "metadata": {},
          "output_type": "execute_result"
        }
      ],
      "source": [
        "col_names = ['pregnant', 'glucose', 'bp', 'skin', 'insulin', 'bmi', 'pedigree', 'age', 'label']\n",
        "\n",
        "# load dataset\n",
        "df_pp = pd.read_csv(\"pima-indians-diabetes.csv\", header = 0, names = col_names)\n",
        "df_pp.head()"
      ]
    },
    {
      "cell_type": "markdown",
      "metadata": {
        "id": "X5biA62L-8F9"
      },
      "source": [
        "Split the dataset to train and test (0.3)"
      ]
    },
    {
      "cell_type": "code",
      "execution_count": 6,
      "metadata": {
        "id": "QeoynlzH-8F9"
      },
      "outputs": [],
      "source": [
        "\n",
        "from sklearn import preprocessing\n",
        "from sklearn.model_selection import train_test_split\n",
        "\n",
        "X = df_pp.loc[:, df_pp.columns != 'label']\n",
        "y = df_pp.loc[:, df_pp.columns == 'label']\n",
        "\n",
        "# use stratification to ensure each class is sampled in the testing set\n",
        "X_train, X_test, y_train, y_test = train_test_split(X, y.values.ravel(), test_size=0.3, random_state=0, stratify=y)\n"
      ]
    },
    {
      "cell_type": "code",
      "execution_count": 7,
      "metadata": {
        "colab": {
          "base_uri": "https://localhost:8080/",
          "height": 927
        },
        "id": "iP5iNi7e-8F9",
        "outputId": "d2afeb2d-84d0-4fc0-c56c-c0712dcffcb9"
      },
      "outputs": [
        {
          "data": {
            "image/png": "[encoded data removed]",
            "text/plain": [
              "<Figure size 640x480 with 1 Axes>"
            ]
          },
          "metadata": {},
          "output_type": "display_data"
        },
        {
          "data": {
            "image/png": "[encoded data removed]",
            "text/plain": [
              "<Figure size 640x480 with 1 Axes>"
            ]
          },
          "metadata": {},
          "output_type": "display_data"
        }
      ],
      "source": [
        "#visualize classes after splitting\n",
        "plt.figure()\n",
        "sns.countplot(x='y', data = pd.DataFrame({'y':y_train}))\n",
        "plt.title('Class Distribution for Training Set')\n",
        "plt.show()\n",
        "plt.figure()\n",
        "sns.countplot(x='y', data = pd.DataFrame({'y':y_test}))\n",
        "plt.title('Class Distribution for Testing Set')\n",
        "plt.show()"
      ]
    },
    {
      "cell_type": "code",
      "execution_count": 8,
      "metadata": {
        "colab": {
          "base_uri": "https://localhost:8080/"
        },
        "id": "JSc2_xB0-8F9",
        "outputId": "dfe63441-b84a-4542-9f1a-5629569ced59"
      },
      "outputs": [
        {
          "name": "stdout",
          "output_type": "stream",
          "text": [
            "Requirement already satisfied: imblearn in c:\\users\\anis\\appdata\\local\\programs\\python\\python311\\lib\\site-packages (0.0)\n",
            "Requirement already satisfied: imbalanced-learn in c:\\users\\anis\\appdata\\local\\programs\\python\\python311\\lib\\site-packages (from imblearn) (0.11.0)\n",
            "Requirement already satisfied: numpy>=1.17.3 in c:\\users\\anis\\appdata\\local\\programs\\python\\python311\\lib\\site-packages (from imbalanced-learn->imblearn) (1.26.3)\n",
            "Requirement already satisfied: scipy>=1.5.0 in c:\\users\\anis\\appdata\\roaming\\python\\python311\\site-packages (from imbalanced-learn->imblearn) (1.11.4)\n",
            "Requirement already satisfied: scikit-learn>=1.0.2 in c:\\users\\anis\\appdata\\local\\programs\\python\\python311\\lib\\site-packages (from imbalanced-learn->imblearn) (1.2.2)\n",
            "Requirement already satisfied: joblib>=1.1.1 in c:\\users\\anis\\appdata\\local\\programs\\python\\python311\\lib\\site-packages (from imbalanced-learn->imblearn) (1.2.0)\n",
            "Requirement already satisfied: threadpoolctl>=2.0.0 in c:\\users\\anis\\appdata\\local\\programs\\python\\python311\\lib\\site-packages (from imbalanced-learn->imblearn) (3.1.0)\n",
            "Note: you may need to restart the kernel to use updated packages.\n"
          ]
        }
      ],
      "source": [
        "%pip install imblearn\n"
      ]
    },
    {
      "cell_type": "code",
      "execution_count": 9,
      "metadata": {
        "colab": {
          "base_uri": "https://localhost:8080/"
        },
        "id": "T_6-Q0nR-8F9",
        "outputId": "04a4f08b-3235-42ee-d681-dc0dd527c642"
      },
      "outputs": [
        {
          "name": "stdout",
          "output_type": "stream",
          "text": [
            "pregnant      int64\n",
            "glucose       int64\n",
            "bp            int64\n",
            "skin          int64\n",
            "insulin       int64\n",
            "bmi         float64\n",
            "pedigree    float64\n",
            "age           int64\n",
            "label         int64\n",
            "dtype: object\n"
          ]
        }
      ],
      "source": [
        "#check values of each categorical attribute\n",
        "print(df_pp.dtypes)"
      ]
    },
    {
      "cell_type": "markdown",
      "metadata": {
        "id": "Ygv3_Ry2-8F9"
      },
      "source": [
        "Normalising numerical data"
      ]
    },
    {
      "cell_type": "code",
      "execution_count": 10,
      "metadata": {
        "colab": {
          "base_uri": "https://localhost:8080/",
          "height": 830
        },
        "id": "0kqXDgou-8F9",
        "outputId": "57c482f2-95d6-4f45-b728-1cfcb3fdeeb2"
      },
      "outputs": [
        {
          "data": {
            "text/html": [
              "<div>\n",
              "<style scoped>\n",
              "    .dataframe tbody tr th:only-of-type {\n",
              "        vertical-align: middle;\n",
              "    }\n",
              "\n",
              "    .dataframe tbody tr th {\n",
              "        vertical-align: top;\n",
              "    }\n",
              "\n",
              "    .dataframe thead th {\n",
              "        text-align: right;\n",
              "    }\n",
              "</style>\n",
              "<table border=\"1\" class=\"dataframe\">\n",
              "  <thead>\n",
              "    <tr style=\"text-align: right;\">\n",
              "      <th></th>\n",
              "      <th>pregnant</th>\n",
              "      <th>glucose</th>\n",
              "      <th>bp</th>\n",
              "      <th>skin</th>\n",
              "      <th>insulin</th>\n",
              "      <th>bmi</th>\n",
              "      <th>pedigree</th>\n",
              "      <th>age</th>\n",
              "    </tr>\n",
              "  </thead>\n",
              "  <tbody>\n",
              "    <tr>\n",
              "      <th>608</th>\n",
              "      <td>0.000000</td>\n",
              "      <td>0.763819</td>\n",
              "      <td>0.672131</td>\n",
              "      <td>0.393939</td>\n",
              "      <td>0.321513</td>\n",
              "      <td>0.618480</td>\n",
              "      <td>0.081981</td>\n",
              "      <td>0.100000</td>\n",
              "    </tr>\n",
              "    <tr>\n",
              "      <th>626</th>\n",
              "      <td>0.000000</td>\n",
              "      <td>0.628141</td>\n",
              "      <td>0.557377</td>\n",
              "      <td>0.000000</td>\n",
              "      <td>0.000000</td>\n",
              "      <td>0.368107</td>\n",
              "      <td>0.054654</td>\n",
              "      <td>0.000000</td>\n",
              "    </tr>\n",
              "    <tr>\n",
              "      <th>678</th>\n",
              "      <td>0.176471</td>\n",
              "      <td>0.608040</td>\n",
              "      <td>0.426230</td>\n",
              "      <td>0.000000</td>\n",
              "      <td>0.000000</td>\n",
              "      <td>0.536513</td>\n",
              "      <td>0.020922</td>\n",
              "      <td>0.066667</td>\n",
              "    </tr>\n",
              "    <tr>\n",
              "      <th>186</th>\n",
              "      <td>0.470588</td>\n",
              "      <td>0.909548</td>\n",
              "      <td>0.557377</td>\n",
              "      <td>0.363636</td>\n",
              "      <td>0.585106</td>\n",
              "      <td>0.448584</td>\n",
              "      <td>0.229291</td>\n",
              "      <td>0.650000</td>\n",
              "    </tr>\n",
              "    <tr>\n",
              "      <th>520</th>\n",
              "      <td>0.117647</td>\n",
              "      <td>0.341709</td>\n",
              "      <td>0.573770</td>\n",
              "      <td>0.323232</td>\n",
              "      <td>0.078014</td>\n",
              "      <td>0.372578</td>\n",
              "      <td>0.046541</td>\n",
              "      <td>0.066667</td>\n",
              "    </tr>\n",
              "    <tr>\n",
              "      <th>...</th>\n",
              "      <td>...</td>\n",
              "      <td>...</td>\n",
              "      <td>...</td>\n",
              "      <td>...</td>\n",
              "      <td>...</td>\n",
              "      <td>...</td>\n",
              "      <td>...</td>\n",
              "      <td>...</td>\n",
              "    </tr>\n",
              "    <tr>\n",
              "      <th>8</th>\n",
              "      <td>0.117647</td>\n",
              "      <td>0.989950</td>\n",
              "      <td>0.573770</td>\n",
              "      <td>0.454545</td>\n",
              "      <td>0.641844</td>\n",
              "      <td>0.454545</td>\n",
              "      <td>0.034159</td>\n",
              "      <td>0.533333</td>\n",
              "    </tr>\n",
              "    <tr>\n",
              "      <th>529</th>\n",
              "      <td>0.000000</td>\n",
              "      <td>0.557789</td>\n",
              "      <td>0.532787</td>\n",
              "      <td>0.000000</td>\n",
              "      <td>0.000000</td>\n",
              "      <td>0.366617</td>\n",
              "      <td>0.248506</td>\n",
              "      <td>0.166667</td>\n",
              "    </tr>\n",
              "    <tr>\n",
              "      <th>273</th>\n",
              "      <td>0.058824</td>\n",
              "      <td>0.356784</td>\n",
              "      <td>0.639344</td>\n",
              "      <td>0.505051</td>\n",
              "      <td>0.053191</td>\n",
              "      <td>0.494784</td>\n",
              "      <td>0.146883</td>\n",
              "      <td>0.000000</td>\n",
              "    </tr>\n",
              "    <tr>\n",
              "      <th>11</th>\n",
              "      <td>0.588235</td>\n",
              "      <td>0.844221</td>\n",
              "      <td>0.606557</td>\n",
              "      <td>0.000000</td>\n",
              "      <td>0.000000</td>\n",
              "      <td>0.566319</td>\n",
              "      <td>0.195986</td>\n",
              "      <td>0.216667</td>\n",
              "    </tr>\n",
              "    <tr>\n",
              "      <th>677</th>\n",
              "      <td>0.000000</td>\n",
              "      <td>0.467337</td>\n",
              "      <td>0.491803</td>\n",
              "      <td>0.000000</td>\n",
              "      <td>0.000000</td>\n",
              "      <td>0.526080</td>\n",
              "      <td>0.078992</td>\n",
              "      <td>0.066667</td>\n",
              "    </tr>\n",
              "  </tbody>\n",
              "</table>\n",
              "<p>231 rows × 8 columns</p>\n",
              "</div>"
            ],
            "text/plain": [
              "     pregnant   glucose        bp      skin   insulin       bmi  pedigree   \n",
              "608  0.000000  0.763819  0.672131  0.393939  0.321513  0.618480  0.081981  \\\n",
              "626  0.000000  0.628141  0.557377  0.000000  0.000000  0.368107  0.054654   \n",
              "678  0.176471  0.608040  0.426230  0.000000  0.000000  0.536513  0.020922   \n",
              "186  0.470588  0.909548  0.557377  0.363636  0.585106  0.448584  0.229291   \n",
              "520  0.117647  0.341709  0.573770  0.323232  0.078014  0.372578  0.046541   \n",
              "..        ...       ...       ...       ...       ...       ...       ...   \n",
              "8    0.117647  0.989950  0.573770  0.454545  0.641844  0.454545  0.034159   \n",
              "529  0.000000  0.557789  0.532787  0.000000  0.000000  0.366617  0.248506   \n",
              "273  0.058824  0.356784  0.639344  0.505051  0.053191  0.494784  0.146883   \n",
              "11   0.588235  0.844221  0.606557  0.000000  0.000000  0.566319  0.195986   \n",
              "677  0.000000  0.467337  0.491803  0.000000  0.000000  0.526080  0.078992   \n",
              "\n",
              "          age  \n",
              "608  0.100000  \n",
              "626  0.000000  \n",
              "678  0.066667  \n",
              "186  0.650000  \n",
              "520  0.066667  \n",
              "..        ...  \n",
              "8    0.533333  \n",
              "529  0.166667  \n",
              "273  0.000000  \n",
              "11   0.216667  \n",
              "677  0.066667  \n",
              "\n",
              "[231 rows x 8 columns]"
            ]
          },
          "metadata": {},
          "output_type": "display_data"
        },
        {
          "data": {
            "text/html": [
              "<div>\n",
              "<style scoped>\n",
              "    .dataframe tbody tr th:only-of-type {\n",
              "        vertical-align: middle;\n",
              "    }\n",
              "\n",
              "    .dataframe tbody tr th {\n",
              "        vertical-align: top;\n",
              "    }\n",
              "\n",
              "    .dataframe thead th {\n",
              "        text-align: right;\n",
              "    }\n",
              "</style>\n",
              "<table border=\"1\" class=\"dataframe\">\n",
              "  <thead>\n",
              "    <tr style=\"text-align: right;\">\n",
              "      <th></th>\n",
              "      <th>pregnant</th>\n",
              "      <th>glucose</th>\n",
              "      <th>bp</th>\n",
              "      <th>skin</th>\n",
              "      <th>insulin</th>\n",
              "      <th>bmi</th>\n",
              "      <th>pedigree</th>\n",
              "      <th>age</th>\n",
              "    </tr>\n",
              "  </thead>\n",
              "  <tbody>\n",
              "    <tr>\n",
              "      <th>34</th>\n",
              "      <td>0.588235</td>\n",
              "      <td>0.613065</td>\n",
              "      <td>0.639344</td>\n",
              "      <td>0.313131</td>\n",
              "      <td>0.000000</td>\n",
              "      <td>0.411326</td>\n",
              "      <td>0.185312</td>\n",
              "      <td>0.400000</td>\n",
              "    </tr>\n",
              "    <tr>\n",
              "      <th>221</th>\n",
              "      <td>0.117647</td>\n",
              "      <td>0.793970</td>\n",
              "      <td>0.737705</td>\n",
              "      <td>0.000000</td>\n",
              "      <td>0.000000</td>\n",
              "      <td>0.470939</td>\n",
              "      <td>0.310418</td>\n",
              "      <td>0.750000</td>\n",
              "    </tr>\n",
              "    <tr>\n",
              "      <th>531</th>\n",
              "      <td>0.000000</td>\n",
              "      <td>0.537688</td>\n",
              "      <td>0.622951</td>\n",
              "      <td>0.000000</td>\n",
              "      <td>0.000000</td>\n",
              "      <td>0.675112</td>\n",
              "      <td>0.259607</td>\n",
              "      <td>0.050000</td>\n",
              "    </tr>\n",
              "    <tr>\n",
              "      <th>518</th>\n",
              "      <td>0.764706</td>\n",
              "      <td>0.381910</td>\n",
              "      <td>0.491803</td>\n",
              "      <td>0.000000</td>\n",
              "      <td>0.000000</td>\n",
              "      <td>0.488823</td>\n",
              "      <td>0.043553</td>\n",
              "      <td>0.333333</td>\n",
              "    </tr>\n",
              "    <tr>\n",
              "      <th>650</th>\n",
              "      <td>0.058824</td>\n",
              "      <td>0.457286</td>\n",
              "      <td>0.442623</td>\n",
              "      <td>0.252525</td>\n",
              "      <td>0.118203</td>\n",
              "      <td>0.375559</td>\n",
              "      <td>0.066610</td>\n",
              "      <td>0.033333</td>\n",
              "    </tr>\n",
              "    <tr>\n",
              "      <th>...</th>\n",
              "      <td>...</td>\n",
              "      <td>...</td>\n",
              "      <td>...</td>\n",
              "      <td>...</td>\n",
              "      <td>...</td>\n",
              "      <td>...</td>\n",
              "      <td>...</td>\n",
              "      <td>...</td>\n",
              "    </tr>\n",
              "    <tr>\n",
              "      <th>628</th>\n",
              "      <td>0.294118</td>\n",
              "      <td>0.643216</td>\n",
              "      <td>0.655738</td>\n",
              "      <td>0.000000</td>\n",
              "      <td>0.000000</td>\n",
              "      <td>0.515648</td>\n",
              "      <td>0.028181</td>\n",
              "      <td>0.400000</td>\n",
              "    </tr>\n",
              "    <tr>\n",
              "      <th>456</th>\n",
              "      <td>0.058824</td>\n",
              "      <td>0.678392</td>\n",
              "      <td>0.442623</td>\n",
              "      <td>0.000000</td>\n",
              "      <td>0.000000</td>\n",
              "      <td>0.397914</td>\n",
              "      <td>0.260034</td>\n",
              "      <td>0.683333</td>\n",
              "    </tr>\n",
              "    <tr>\n",
              "      <th>398</th>\n",
              "      <td>0.176471</td>\n",
              "      <td>0.412060</td>\n",
              "      <td>0.573770</td>\n",
              "      <td>0.000000</td>\n",
              "      <td>0.000000</td>\n",
              "      <td>0.314456</td>\n",
              "      <td>0.132792</td>\n",
              "      <td>0.066667</td>\n",
              "    </tr>\n",
              "    <tr>\n",
              "      <th>6</th>\n",
              "      <td>0.176471</td>\n",
              "      <td>0.391960</td>\n",
              "      <td>0.409836</td>\n",
              "      <td>0.323232</td>\n",
              "      <td>0.104019</td>\n",
              "      <td>0.461997</td>\n",
              "      <td>0.072588</td>\n",
              "      <td>0.083333</td>\n",
              "    </tr>\n",
              "    <tr>\n",
              "      <th>294</th>\n",
              "      <td>0.000000</td>\n",
              "      <td>0.809045</td>\n",
              "      <td>0.409836</td>\n",
              "      <td>0.000000</td>\n",
              "      <td>0.000000</td>\n",
              "      <td>0.326379</td>\n",
              "      <td>0.075149</td>\n",
              "      <td>0.733333</td>\n",
              "    </tr>\n",
              "  </tbody>\n",
              "</table>\n",
              "<p>537 rows × 8 columns</p>\n",
              "</div>"
            ],
            "text/plain": [
              "     pregnant   glucose        bp      skin   insulin       bmi  pedigree   \n",
              "34   0.588235  0.613065  0.639344  0.313131  0.000000  0.411326  0.185312  \\\n",
              "221  0.117647  0.793970  0.737705  0.000000  0.000000  0.470939  0.310418   \n",
              "531  0.000000  0.537688  0.622951  0.000000  0.000000  0.675112  0.259607   \n",
              "518  0.764706  0.381910  0.491803  0.000000  0.000000  0.488823  0.043553   \n",
              "650  0.058824  0.457286  0.442623  0.252525  0.118203  0.375559  0.066610   \n",
              "..        ...       ...       ...       ...       ...       ...       ...   \n",
              "628  0.294118  0.643216  0.655738  0.000000  0.000000  0.515648  0.028181   \n",
              "456  0.058824  0.678392  0.442623  0.000000  0.000000  0.397914  0.260034   \n",
              "398  0.176471  0.412060  0.573770  0.000000  0.000000  0.314456  0.132792   \n",
              "6    0.176471  0.391960  0.409836  0.323232  0.104019  0.461997  0.072588   \n",
              "294  0.000000  0.809045  0.409836  0.000000  0.000000  0.326379  0.075149   \n",
              "\n",
              "          age  \n",
              "34   0.400000  \n",
              "221  0.750000  \n",
              "531  0.050000  \n",
              "518  0.333333  \n",
              "650  0.033333  \n",
              "..        ...  \n",
              "628  0.400000  \n",
              "456  0.683333  \n",
              "398  0.066667  \n",
              "6    0.083333  \n",
              "294  0.733333  \n",
              "\n",
              "[537 rows x 8 columns]"
            ]
          },
          "metadata": {},
          "output_type": "display_data"
        }
      ],
      "source": [
        "#normalize numerical attributes\n",
        "from sklearn.preprocessing import MinMaxScaler\n",
        "min_max_scaler = MinMaxScaler()\n",
        "X_train_preprocess = X_train.copy()\n",
        "num_attributes = X_train.select_dtypes(['int64','float64']).columns\n",
        "X_train_preprocess[num_attributes] = min_max_scaler.fit_transform(X_train_preprocess[num_attributes])\n",
        "\n",
        "X_test_preprocess = X_test.copy()\n",
        "X_test_preprocess[num_attributes] = min_max_scaler.transform(X_test_preprocess[num_attributes])\n",
        "display(X_test_preprocess)\n",
        "\n",
        "# X_train_preprocess = pd.DataFrame(X_train_preprocess, columns = num_attributes)\n",
        "display(X_train_preprocess)"
      ]
    },
    {
      "cell_type": "markdown",
      "metadata": {
        "id": "nC3SixhQ-8F9"
      },
      "source": [
        "Using SMOTE to sample data"
      ]
    },
    {
      "cell_type": "code",
      "execution_count": 11,
      "metadata": {
        "colab": {
          "base_uri": "https://localhost:8080/",
          "height": 424
        },
        "id": "9u5A70hY-8F9",
        "outputId": "f05ce7a9-862b-4c91-ea59-0a335c4b937a"
      },
      "outputs": [
        {
          "data": {
            "text/html": [
              "<div>\n",
              "<style scoped>\n",
              "    .dataframe tbody tr th:only-of-type {\n",
              "        vertical-align: middle;\n",
              "    }\n",
              "\n",
              "    .dataframe tbody tr th {\n",
              "        vertical-align: top;\n",
              "    }\n",
              "\n",
              "    .dataframe thead th {\n",
              "        text-align: right;\n",
              "    }\n",
              "</style>\n",
              "<table border=\"1\" class=\"dataframe\">\n",
              "  <thead>\n",
              "    <tr style=\"text-align: right;\">\n",
              "      <th></th>\n",
              "      <th>pregnant</th>\n",
              "      <th>glucose</th>\n",
              "      <th>bp</th>\n",
              "      <th>skin</th>\n",
              "      <th>insulin</th>\n",
              "      <th>bmi</th>\n",
              "      <th>pedigree</th>\n",
              "      <th>age</th>\n",
              "    </tr>\n",
              "  </thead>\n",
              "  <tbody>\n",
              "    <tr>\n",
              "      <th>0</th>\n",
              "      <td>0.588235</td>\n",
              "      <td>0.613065</td>\n",
              "      <td>0.639344</td>\n",
              "      <td>0.313131</td>\n",
              "      <td>0.000000</td>\n",
              "      <td>0.411326</td>\n",
              "      <td>0.185312</td>\n",
              "      <td>0.400000</td>\n",
              "    </tr>\n",
              "    <tr>\n",
              "      <th>1</th>\n",
              "      <td>0.117647</td>\n",
              "      <td>0.793970</td>\n",
              "      <td>0.737705</td>\n",
              "      <td>0.000000</td>\n",
              "      <td>0.000000</td>\n",
              "      <td>0.470939</td>\n",
              "      <td>0.310418</td>\n",
              "      <td>0.750000</td>\n",
              "    </tr>\n",
              "    <tr>\n",
              "      <th>2</th>\n",
              "      <td>0.000000</td>\n",
              "      <td>0.537688</td>\n",
              "      <td>0.622951</td>\n",
              "      <td>0.000000</td>\n",
              "      <td>0.000000</td>\n",
              "      <td>0.675112</td>\n",
              "      <td>0.259607</td>\n",
              "      <td>0.050000</td>\n",
              "    </tr>\n",
              "    <tr>\n",
              "      <th>3</th>\n",
              "      <td>0.764706</td>\n",
              "      <td>0.381910</td>\n",
              "      <td>0.491803</td>\n",
              "      <td>0.000000</td>\n",
              "      <td>0.000000</td>\n",
              "      <td>0.488823</td>\n",
              "      <td>0.043553</td>\n",
              "      <td>0.333333</td>\n",
              "    </tr>\n",
              "    <tr>\n",
              "      <th>4</th>\n",
              "      <td>0.058824</td>\n",
              "      <td>0.457286</td>\n",
              "      <td>0.442623</td>\n",
              "      <td>0.252525</td>\n",
              "      <td>0.118203</td>\n",
              "      <td>0.375559</td>\n",
              "      <td>0.066610</td>\n",
              "      <td>0.033333</td>\n",
              "    </tr>\n",
              "    <tr>\n",
              "      <th>...</th>\n",
              "      <td>...</td>\n",
              "      <td>...</td>\n",
              "      <td>...</td>\n",
              "      <td>...</td>\n",
              "      <td>...</td>\n",
              "      <td>...</td>\n",
              "      <td>...</td>\n",
              "      <td>...</td>\n",
              "    </tr>\n",
              "    <tr>\n",
              "      <th>695</th>\n",
              "      <td>0.176471</td>\n",
              "      <td>0.862726</td>\n",
              "      <td>0.489657</td>\n",
              "      <td>0.233927</td>\n",
              "      <td>0.252257</td>\n",
              "      <td>0.495926</td>\n",
              "      <td>0.204497</td>\n",
              "      <td>0.247586</td>\n",
              "    </tr>\n",
              "    <tr>\n",
              "      <th>696</th>\n",
              "      <td>0.440474</td>\n",
              "      <td>0.551563</td>\n",
              "      <td>0.000000</td>\n",
              "      <td>0.000000</td>\n",
              "      <td>0.000000</td>\n",
              "      <td>0.447094</td>\n",
              "      <td>0.110630</td>\n",
              "      <td>0.232139</td>\n",
              "    </tr>\n",
              "    <tr>\n",
              "      <th>697</th>\n",
              "      <td>0.138565</td>\n",
              "      <td>0.784255</td>\n",
              "      <td>0.478697</td>\n",
              "      <td>0.283503</td>\n",
              "      <td>0.549185</td>\n",
              "      <td>0.559792</td>\n",
              "      <td>0.084963</td>\n",
              "      <td>0.125935</td>\n",
              "    </tr>\n",
              "    <tr>\n",
              "      <th>698</th>\n",
              "      <td>0.055320</td>\n",
              "      <td>0.611868</td>\n",
              "      <td>0.534355</td>\n",
              "      <td>0.332258</td>\n",
              "      <td>0.189608</td>\n",
              "      <td>0.532599</td>\n",
              "      <td>0.258583</td>\n",
              "      <td>0.150993</td>\n",
              "    </tr>\n",
              "    <tr>\n",
              "      <th>699</th>\n",
              "      <td>0.397960</td>\n",
              "      <td>0.841449</td>\n",
              "      <td>0.548678</td>\n",
              "      <td>0.000000</td>\n",
              "      <td>0.000000</td>\n",
              "      <td>0.454804</td>\n",
              "      <td>0.124719</td>\n",
              "      <td>0.230444</td>\n",
              "    </tr>\n",
              "  </tbody>\n",
              "</table>\n",
              "<p>700 rows × 8 columns</p>\n",
              "</div>"
            ],
            "text/plain": [
              "     pregnant   glucose        bp      skin   insulin       bmi  pedigree   \n",
              "0    0.588235  0.613065  0.639344  0.313131  0.000000  0.411326  0.185312  \\\n",
              "1    0.117647  0.793970  0.737705  0.000000  0.000000  0.470939  0.310418   \n",
              "2    0.000000  0.537688  0.622951  0.000000  0.000000  0.675112  0.259607   \n",
              "3    0.764706  0.381910  0.491803  0.000000  0.000000  0.488823  0.043553   \n",
              "4    0.058824  0.457286  0.442623  0.252525  0.118203  0.375559  0.066610   \n",
              "..        ...       ...       ...       ...       ...       ...       ...   \n",
              "695  0.176471  0.862726  0.489657  0.233927  0.252257  0.495926  0.204497   \n",
              "696  0.440474  0.551563  0.000000  0.000000  0.000000  0.447094  0.110630   \n",
              "697  0.138565  0.784255  0.478697  0.283503  0.549185  0.559792  0.084963   \n",
              "698  0.055320  0.611868  0.534355  0.332258  0.189608  0.532599  0.258583   \n",
              "699  0.397960  0.841449  0.548678  0.000000  0.000000  0.454804  0.124719   \n",
              "\n",
              "          age  \n",
              "0    0.400000  \n",
              "1    0.750000  \n",
              "2    0.050000  \n",
              "3    0.333333  \n",
              "4    0.033333  \n",
              "..        ...  \n",
              "695  0.247586  \n",
              "696  0.232139  \n",
              "697  0.125935  \n",
              "698  0.150993  \n",
              "699  0.230444  \n",
              "\n",
              "[700 rows x 8 columns]"
            ]
          },
          "metadata": {},
          "output_type": "display_data"
        }
      ],
      "source": [
        "from imblearn.over_sampling import SMOTE\n",
        "\n",
        "\n",
        "ovr_samp = SMOTE(random_state=0)\n",
        "X_ovr_samp, y_ovr_samp = ovr_samp.fit_resample(X_train_preprocess, y_train)\n",
        "X_ovr_samp = pd.DataFrame(data=X_ovr_samp, columns=X_train_preprocess.columns)\n",
        "\n",
        "X_test_oversampled, y_test_oversampled = ovr_samp.fit_resample(X_test_preprocess, y_test)\n",
        "X_test_oversampled = pd.DataFrame(data=X_test_oversampled, columns=X_test_preprocess.columns)\n",
        "\n",
        "\n",
        "display(X_ovr_samp)"
      ]
    },
    {
      "cell_type": "code",
      "execution_count": 12,
      "metadata": {
        "colab": {
          "base_uri": "https://localhost:8080/"
        },
        "id": "b3hMlCjL-8F-",
        "outputId": "704a667d-e21b-4ef7-af23-7e0271c6bb85"
      },
      "outputs": [
        {
          "name": "stdout",
          "output_type": "stream",
          "text": [
            "(700, 8)\n",
            "(300, 8)\n",
            "(700,)\n",
            "(300,)\n"
          ]
        }
      ],
      "source": [
        "print (X_ovr_samp.shape)\n",
        "print (X_test_oversampled.shape)\n",
        "print (y_ovr_samp.shape)\n",
        "print (y_test_oversampled.shape)"
      ]
    },
    {
      "cell_type": "markdown",
      "metadata": {
        "id": "-AKIHoxM-8F-"
      },
      "source": [
        "Below shows the balanced class distribution for the training set"
      ]
    },
    {
      "cell_type": "code",
      "execution_count": 13,
      "metadata": {
        "colab": {
          "base_uri": "https://localhost:8080/",
          "height": 927
        },
        "id": "b06QAh9p-8F-",
        "outputId": "e3baf20e-b7b6-4839-e407-315dfb90ad10"
      },
      "outputs": [
        {
          "data": {
            "image/png": "[encoded data removed]",
            "text/plain": [
              "<Figure size 640x480 with 1 Axes>"
            ]
          },
          "metadata": {},
          "output_type": "display_data"
        },
        {
          "data": {
            "image/png": "[encoded data removed]",
            "text/plain": [
              "<Figure size 640x480 with 1 Axes>"
            ]
          },
          "metadata": {},
          "output_type": "display_data"
        }
      ],
      "source": [
        "plt.figure()\n",
        "sns.countplot(x='y', data = pd.DataFrame(data=y_ovr_samp,columns=['y']))\n",
        "plt.title('Class Distribution for Training Set')\n",
        "plt.show()\n",
        "\n",
        "plt.figure()\n",
        "sns.countplot(x='y', data = pd.DataFrame(data=y_test_oversampled,columns=['y']))\n",
        "plt.title('Class Distribution for Training Set')\n",
        "plt.show()"
      ]
    },
    {
      "cell_type": "markdown",
      "metadata": {
        "id": "b4GqsP8g-8F-"
      },
      "source": [
        "## Logistic Regression Time"
      ]
    },
    {
      "cell_type": "code",
      "execution_count": 14,
      "metadata": {
        "colab": {
          "base_uri": "https://localhost:8080/",
          "height": 441
        },
        "id": "qEij7wLK-8F-",
        "outputId": "5c7acdd4-4052-43e3-c651-c1efc1b46315"
      },
      "outputs": [
        {
          "name": "stdout",
          "output_type": "stream",
          "text": [
            "(300,)\n"
          ]
        },
        {
          "data": {
            "text/html": [
              "<div>\n",
              "<style scoped>\n",
              "    .dataframe tbody tr th:only-of-type {\n",
              "        vertical-align: middle;\n",
              "    }\n",
              "\n",
              "    .dataframe tbody tr th {\n",
              "        vertical-align: top;\n",
              "    }\n",
              "\n",
              "    .dataframe thead th {\n",
              "        text-align: right;\n",
              "    }\n",
              "</style>\n",
              "<table border=\"1\" class=\"dataframe\">\n",
              "  <thead>\n",
              "    <tr style=\"text-align: right;\">\n",
              "      <th></th>\n",
              "      <th>pregnant</th>\n",
              "      <th>glucose</th>\n",
              "      <th>bp</th>\n",
              "      <th>skin</th>\n",
              "      <th>insulin</th>\n",
              "      <th>bmi</th>\n",
              "      <th>pedigree</th>\n",
              "      <th>age</th>\n",
              "    </tr>\n",
              "  </thead>\n",
              "  <tbody>\n",
              "    <tr>\n",
              "      <th>0</th>\n",
              "      <td>0.588235</td>\n",
              "      <td>0.613065</td>\n",
              "      <td>0.639344</td>\n",
              "      <td>0.313131</td>\n",
              "      <td>0.000000</td>\n",
              "      <td>0.411326</td>\n",
              "      <td>0.185312</td>\n",
              "      <td>0.400000</td>\n",
              "    </tr>\n",
              "    <tr>\n",
              "      <th>1</th>\n",
              "      <td>0.117647</td>\n",
              "      <td>0.793970</td>\n",
              "      <td>0.737705</td>\n",
              "      <td>0.000000</td>\n",
              "      <td>0.000000</td>\n",
              "      <td>0.470939</td>\n",
              "      <td>0.310418</td>\n",
              "      <td>0.750000</td>\n",
              "    </tr>\n",
              "    <tr>\n",
              "      <th>2</th>\n",
              "      <td>0.000000</td>\n",
              "      <td>0.537688</td>\n",
              "      <td>0.622951</td>\n",
              "      <td>0.000000</td>\n",
              "      <td>0.000000</td>\n",
              "      <td>0.675112</td>\n",
              "      <td>0.259607</td>\n",
              "      <td>0.050000</td>\n",
              "    </tr>\n",
              "    <tr>\n",
              "      <th>3</th>\n",
              "      <td>0.764706</td>\n",
              "      <td>0.381910</td>\n",
              "      <td>0.491803</td>\n",
              "      <td>0.000000</td>\n",
              "      <td>0.000000</td>\n",
              "      <td>0.488823</td>\n",
              "      <td>0.043553</td>\n",
              "      <td>0.333333</td>\n",
              "    </tr>\n",
              "    <tr>\n",
              "      <th>4</th>\n",
              "      <td>0.058824</td>\n",
              "      <td>0.457286</td>\n",
              "      <td>0.442623</td>\n",
              "      <td>0.252525</td>\n",
              "      <td>0.118203</td>\n",
              "      <td>0.375559</td>\n",
              "      <td>0.066610</td>\n",
              "      <td>0.033333</td>\n",
              "    </tr>\n",
              "    <tr>\n",
              "      <th>...</th>\n",
              "      <td>...</td>\n",
              "      <td>...</td>\n",
              "      <td>...</td>\n",
              "      <td>...</td>\n",
              "      <td>...</td>\n",
              "      <td>...</td>\n",
              "      <td>...</td>\n",
              "      <td>...</td>\n",
              "    </tr>\n",
              "    <tr>\n",
              "      <th>695</th>\n",
              "      <td>0.176471</td>\n",
              "      <td>0.862726</td>\n",
              "      <td>0.489657</td>\n",
              "      <td>0.233927</td>\n",
              "      <td>0.252257</td>\n",
              "      <td>0.495926</td>\n",
              "      <td>0.204497</td>\n",
              "      <td>0.247586</td>\n",
              "    </tr>\n",
              "    <tr>\n",
              "      <th>696</th>\n",
              "      <td>0.440474</td>\n",
              "      <td>0.551563</td>\n",
              "      <td>0.000000</td>\n",
              "      <td>0.000000</td>\n",
              "      <td>0.000000</td>\n",
              "      <td>0.447094</td>\n",
              "      <td>0.110630</td>\n",
              "      <td>0.232139</td>\n",
              "    </tr>\n",
              "    <tr>\n",
              "      <th>697</th>\n",
              "      <td>0.138565</td>\n",
              "      <td>0.784255</td>\n",
              "      <td>0.478697</td>\n",
              "      <td>0.283503</td>\n",
              "      <td>0.549185</td>\n",
              "      <td>0.559792</td>\n",
              "      <td>0.084963</td>\n",
              "      <td>0.125935</td>\n",
              "    </tr>\n",
              "    <tr>\n",
              "      <th>698</th>\n",
              "      <td>0.055320</td>\n",
              "      <td>0.611868</td>\n",
              "      <td>0.534355</td>\n",
              "      <td>0.332258</td>\n",
              "      <td>0.189608</td>\n",
              "      <td>0.532599</td>\n",
              "      <td>0.258583</td>\n",
              "      <td>0.150993</td>\n",
              "    </tr>\n",
              "    <tr>\n",
              "      <th>699</th>\n",
              "      <td>0.397960</td>\n",
              "      <td>0.841449</td>\n",
              "      <td>0.548678</td>\n",
              "      <td>0.000000</td>\n",
              "      <td>0.000000</td>\n",
              "      <td>0.454804</td>\n",
              "      <td>0.124719</td>\n",
              "      <td>0.230444</td>\n",
              "    </tr>\n",
              "  </tbody>\n",
              "</table>\n",
              "<p>700 rows × 8 columns</p>\n",
              "</div>"
            ],
            "text/plain": [
              "     pregnant   glucose        bp      skin   insulin       bmi  pedigree   \n",
              "0    0.588235  0.613065  0.639344  0.313131  0.000000  0.411326  0.185312  \\\n",
              "1    0.117647  0.793970  0.737705  0.000000  0.000000  0.470939  0.310418   \n",
              "2    0.000000  0.537688  0.622951  0.000000  0.000000  0.675112  0.259607   \n",
              "3    0.764706  0.381910  0.491803  0.000000  0.000000  0.488823  0.043553   \n",
              "4    0.058824  0.457286  0.442623  0.252525  0.118203  0.375559  0.066610   \n",
              "..        ...       ...       ...       ...       ...       ...       ...   \n",
              "695  0.176471  0.862726  0.489657  0.233927  0.252257  0.495926  0.204497   \n",
              "696  0.440474  0.551563  0.000000  0.000000  0.000000  0.447094  0.110630   \n",
              "697  0.138565  0.784255  0.478697  0.283503  0.549185  0.559792  0.084963   \n",
              "698  0.055320  0.611868  0.534355  0.332258  0.189608  0.532599  0.258583   \n",
              "699  0.397960  0.841449  0.548678  0.000000  0.000000  0.454804  0.124719   \n",
              "\n",
              "          age  \n",
              "0    0.400000  \n",
              "1    0.750000  \n",
              "2    0.050000  \n",
              "3    0.333333  \n",
              "4    0.033333  \n",
              "..        ...  \n",
              "695  0.247586  \n",
              "696  0.232139  \n",
              "697  0.125935  \n",
              "698  0.150993  \n",
              "699  0.230444  \n",
              "\n",
              "[700 rows x 8 columns]"
            ]
          },
          "metadata": {},
          "output_type": "display_data"
        }
      ],
      "source": [
        "X_train_rows = len(X_ovr_samp) #save the number of rows of training data\n",
        "X_train_test = pd.concat(objs=[X_ovr_samp, X_test_oversampled], axis=0) #concatenate the training and testing attributes\n",
        "\n",
        "#split the training and testing attributes back into individual variables\n",
        "X_train_onehot = X_train_test[:X_train_rows]\n",
        "X_test_onehot = X_train_test[X_train_rows:]\n",
        "\n",
        "print (y_test_oversampled.shape)\n",
        "\n",
        "\n",
        "display(X_train_onehot)"
      ]
    },
    {
      "cell_type": "code",
      "execution_count": 15,
      "metadata": {
        "colab": {
          "base_uri": "https://localhost:8080/"
        },
        "id": "XyZpynHo-8F-",
        "outputId": "8e0836aa-7fb0-4b3d-9136-49bba7be06c4"
      },
      "outputs": [
        {
          "name": "stdout",
          "output_type": "stream",
          "text": [
            "(700, 8)\n",
            "(300, 8)\n",
            "(700,)\n",
            "(300,)\n",
            "(700, 8)\n",
            "(300, 8)\n"
          ]
        }
      ],
      "source": [
        "print (X_ovr_samp.shape)\n",
        "print (X_test_oversampled.shape)\n",
        "print (y_ovr_samp.shape)\n",
        "print (y_test_oversampled.shape)\n",
        "\n",
        "print (X_train_onehot.shape)\n",
        "print (X_test_onehot.shape)"
      ]
    },
    {
      "cell_type": "markdown",
      "metadata": {
        "id": "cUqsNrqD-8F-"
      },
      "source": [
        "Test is showing a training accuracy of 0.73, and testing accuracy of 0.773. This shows a better fitting of data than what Sir Wong Ya Ping did for the training model. ( Testing accuracy and Training accuracy of the Lab from ya ping is shown below)"
      ]
    },
    {
      "cell_type": "code",
      "execution_count": 16,
      "metadata": {
        "colab": {
          "base_uri": "https://localhost:8080/"
        },
        "id": "Mrqv5pqT-8F-",
        "outputId": "660ded24-36e2-4c50-9cbc-d49e7aead558"
      },
      "outputs": [
        {
          "name": "stdout",
          "output_type": "stream",
          "text": [
            "(300,)\n",
            "Training accuracy:  0.7357142857142858\n"
          ]
        }
      ],
      "source": [
        "from sklearn.linear_model import LogisticRegression\n",
        "\n",
        "logreg = LogisticRegression(solver='lbfgs',max_iter=1000) #initialize logistic regression model\n",
        "logreg.fit(X_train_onehot, y_ovr_samp) #Train model\n",
        "\n",
        "print (y_test_oversampled.shape)\n",
        "#check performance on training set\n",
        "print('Training accuracy: ', logreg.score(X_train_onehot,y_ovr_samp))"
      ]
    },
    {
      "cell_type": "code",
      "execution_count": 17,
      "metadata": {
        "colab": {
          "base_uri": "https://localhost:8080/"
        },
        "id": "Ihcq4iyc-8F-",
        "outputId": "bf3594be-2eb9-4375-ab13-386b59d47757"
      },
      "outputs": [
        {
          "name": "stdout",
          "output_type": "stream",
          "text": [
            "Testing accuracy:  0.77\n"
          ]
        }
      ],
      "source": [
        "print('Testing accuracy: ', logreg.score(X_test_onehot, y_test_oversampled) )"
      ]
    },
    {
      "cell_type": "markdown",
      "metadata": {
        "id": "66zZJvlC-8F-"
      },
      "source": [
        "Below shows the learning curve for the Model. A good training score should be a high value, and the cross-validation score should be a high value, but lower than training score"
      ]
    },
    {
      "cell_type": "code",
      "execution_count": 18,
      "metadata": {
        "colab": {
          "base_uri": "https://localhost:8080/",
          "height": 564
        },
        "id": "Y1_BQ7DU-8F-",
        "outputId": "b264aab9-db49-4869-c79f-3f0ec55db0d5"
      },
      "outputs": [
        {
          "data": {
            "image/png": "[encoded data removed]",
            "text/plain": [
              "<Figure size 800x600 with 1 Axes>"
            ]
          },
          "metadata": {},
          "output_type": "display_data"
        }
      ],
      "source": [
        "\n",
        "from sklearn.model_selection import learning_curve\n",
        "\n",
        "# Create the learning curve\n",
        "train_sizes, train_scores, test_scores = learning_curve(logreg, X_train_onehot, y_ovr_samp, cv=10)\n",
        "\n",
        "# Calculate the mean and standard deviation for the training and testing scores\n",
        "train_mean = np.mean(train_scores, axis=1)\n",
        "train_std = np.std(train_scores, axis=1)\n",
        "test_mean = np.mean(test_scores, axis=1)\n",
        "test_std = np.std(test_scores, axis=1)\n",
        "\n",
        "# Plot the learning curve\n",
        "plt.figure(figsize=(8, 6))\n",
        "plt.plot(train_sizes, train_mean, label='Training score')\n",
        "plt.plot(train_sizes, test_mean, label='Cross-validation score')\n",
        "plt.fill_between(train_sizes, train_mean - train_std, train_mean + train_std, color='#DDDDDD')\n",
        "plt.fill_between(train_sizes, test_mean - test_std, test_mean + test_std, color='#DDDDDD')\n",
        "\n",
        "# Create plot\n",
        "plt.title('Learning Curve')\n",
        "plt.xlabel('Training Size')\n",
        "plt.ylabel('Accuracy Score')\n",
        "plt.legend(loc='best')\n",
        "plt.grid()\n",
        "plt.show()"
      ]
    },
    {
      "cell_type": "markdown",
      "metadata": {
        "id": "oIg-osnX-8F-"
      },
      "source": [
        "Another Model is trained to see if Another logisticRegression solver can increase Training Accuraccy, Liblinear is used with a coefficient of 1.0 to accomodate for small datasets"
      ]
    },
    {
      "cell_type": "code",
      "execution_count": 19,
      "metadata": {
        "colab": {
          "base_uri": "https://localhost:8080/"
        },
        "id": "5YkE_GUD-8F-",
        "outputId": "f38278c4-775c-40a4-b8b2-b5c5f1c3c9d1"
      },
      "outputs": [
        {
          "name": "stdout",
          "output_type": "stream",
          "text": [
            "Training accuracy:  0.7442857142857143\n",
            "Testing accuracy:  0.78\n"
          ]
        }
      ],
      "source": [
        "\n",
        "logreglib = LogisticRegression(solver='liblinear', penalty='l2', C=1.0)\n",
        "logreglib.fit(X_train_onehot, y_ovr_samp)\n",
        "\n",
        "print('Training accuracy: ', logreglib.score(X_train_onehot,y_ovr_samp))\n",
        "print('Testing accuracy: ', logreglib.score(X_test_onehot, y_test_oversampled) )"
      ]
    },
    {
      "cell_type": "code",
      "execution_count": 20,
      "metadata": {
        "colab": {
          "base_uri": "https://localhost:8080/",
          "height": 564
        },
        "id": "Muxm2x4K-8F-",
        "outputId": "e7b7b003-36dc-4b34-8c4b-00cc061a314d"
      },
      "outputs": [
        {
          "data": {
            "image/png": "[encoded data removed]",
            "text/plain": [
              "<Figure size 800x600 with 1 Axes>"
            ]
          },
          "metadata": {},
          "output_type": "display_data"
        }
      ],
      "source": [
        "\n",
        "from sklearn.model_selection import learning_curve\n",
        "\n",
        "# Create the learning curve\n",
        "train_sizes, train_scores, test_scores = learning_curve(logreglib, X_train_onehot, y_ovr_samp, cv=10)\n",
        "\n",
        "# Calculate the mean and standard deviation for the training and testing scores\n",
        "train_mean = np.mean(train_scores, axis=1)\n",
        "train_std = np.std(train_scores, axis=1)\n",
        "test_mean = np.mean(test_scores, axis=1)\n",
        "test_std = np.std(test_scores, axis=1)\n",
        "\n",
        "# Plot the learning curve\n",
        "plt.figure(figsize=(8, 6))\n",
        "plt.plot(train_sizes, train_mean, label='Training score')\n",
        "plt.plot(train_sizes, test_mean, label='Cross-validation score')\n",
        "plt.fill_between(train_sizes, train_mean - train_std, train_mean + train_std, color='#DDDDDD')\n",
        "plt.fill_between(train_sizes, test_mean - test_std, test_mean + test_std, color='#DDDDDD')\n",
        "\n",
        "# Create plot\n",
        "plt.title('Learning Curve')\n",
        "plt.xlabel('Training Size')\n",
        "plt.ylabel('Accuracy Score')\n",
        "plt.legend(loc='best')\n",
        "plt.grid()\n",
        "plt.show()"
      ]
    },
    {
      "cell_type": "markdown",
      "metadata": {
        "id": "0TZ20kjC-8F-"
      },
      "source": [
        "The Lab_6 from Wong Ya Ping states a Training accuracy of 0.77 and a Testing accuracy of 0.81 as shown below. Having a testing accuracy that is higher than Training accuracy can mean an overfitting of data"
      ]
    },
    {
      "cell_type": "markdown",
      "metadata": {
        "id": "lHQ4ePgI-8F-"
      },
      "source": [
        "![image.png](attachment:image.png)"
      ]
    },
    {
      "cell_type": "markdown",
      "metadata": {
        "id": "VkmiN2-P-8F-"
      },
      "source": [
        "Showing classification report of the lbsg solver"
      ]
    },
    {
      "cell_type": "code",
      "execution_count": 21,
      "metadata": {
        "colab": {
          "base_uri": "https://localhost:8080/"
        },
        "id": "Jfr_qwoR-8F-",
        "outputId": "9dbacabf-746b-43d6-ec17-ca8f087fca25"
      },
      "outputs": [
        {
          "name": "stdout",
          "output_type": "stream",
          "text": [
            "              precision    recall  f1-score   support\n",
            "\n",
            "           0       0.84      0.81      0.82       150\n",
            "           1       0.67      0.72      0.69        81\n",
            "\n",
            "    accuracy                           0.77       231\n",
            "   macro avg       0.75      0.76      0.76       231\n",
            "weighted avg       0.78      0.77      0.78       231\n",
            "\n"
          ]
        }
      ],
      "source": [
        "\n",
        "\n",
        "y_pred = logreg.predict(X_test_preprocess)\n",
        "print(classification_report(y_test, y_pred))"
      ]
    },
    {
      "cell_type": "code",
      "execution_count": 22,
      "metadata": {
        "colab": {
          "base_uri": "https://localhost:8080/"
        },
        "id": "Xnif1uhS-8F-",
        "outputId": "1b7f3bd8-b81c-42a5-ab4d-7fb5f3ea2bd2"
      },
      "outputs": [
        {
          "name": "stdout",
          "output_type": "stream",
          "text": [
            "[[121  29]\n",
            " [ 23  58]]\n",
            "True positive:  58\n",
            "True negatives:  121\n",
            "False positive:  29\n",
            "False negatives:  23\n"
          ]
        }
      ],
      "source": [
        "from sklearn.metrics import confusion_matrix\n",
        "conf_mat = confusion_matrix(y_test, y_pred)\n",
        "print(conf_mat)\n",
        "tn, fp, fn, tp = conf_mat.ravel()\n",
        "print('True positive: ',tp)\n",
        "print('True negatives: ',tn)\n",
        "print('False positive: ',fp)\n",
        "print('False negatives: ',fn)"
      ]
    },
    {
      "cell_type": "markdown",
      "metadata": {
        "id": "u3r0Ahkc-8F_"
      },
      "source": [
        "Showing confusion matrix"
      ]
    },
    {
      "cell_type": "code",
      "execution_count": 23,
      "metadata": {
        "colab": {
          "base_uri": "https://localhost:8080/",
          "height": 448
        },
        "id": "HJZvAs_c-8F_",
        "outputId": "e14936db-dcdb-410c-9bb3-d19452f15b67"
      },
      "outputs": [
        {
          "data": {
            "text/plain": [
              "<Axes: >"
            ]
          },
          "execution_count": 23,
          "metadata": {},
          "output_type": "execute_result"
        },
        {
          "data": {
            "image/png": "[encoded data removed]",
            "text/plain": [
              "<Figure size 640x480 with 2 Axes>"
            ]
          },
          "metadata": {},
          "output_type": "display_data"
        }
      ],
      "source": [
        "conf_mat = confusion_matrix(y_test, y_pred,normalize='true')\n",
        "sns.heatmap(conf_mat, annot=True)"
      ]
    }
  ],
  "metadata": {
    "colab": {
      "provenance": []
    },
    "kernelspec": {
      "display_name": "Python 3",
      "language": "python",
      "name": "python3"
    },
    "language_info": {
      "codemirror_mode": {
        "name": "ipython",
        "version": 3
      },
      "file_extension": ".py",
      "mimetype": "text/x-python",
      "name": "python",
      "nbconvert_exporter": "python",
      "pygments_lexer": "ipython3",
      "version": "3.11.2"
    }
  },
  "nbformat": 4,
  "nbformat_minor": 0
}
